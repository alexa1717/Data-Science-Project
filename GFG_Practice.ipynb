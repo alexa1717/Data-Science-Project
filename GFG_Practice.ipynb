{
  "nbformat": 4,
  "nbformat_minor": 0,
  "metadata": {
    "colab": {
      "provenance": [],
      "authorship_tag": "ABX9TyNXJlxO5+svVMrADhts+Cr8",
      "include_colab_link": true
    },
    "kernelspec": {
      "name": "python3",
      "display_name": "Python 3"
    },
    "language_info": {
      "name": "python"
    }
  },
  "cells": [
    {
      "cell_type": "markdown",
      "metadata": {
        "id": "view-in-github",
        "colab_type": "text"
      },
      "source": [
        "<a href=\"https://colab.research.google.com/github/alexa1717/Data-Science-Project/blob/main/GFG_Practice.ipynb\" target=\"_parent\"><img src=\"https://colab.research.google.com/assets/colab-badge.svg\" alt=\"Open In Colab\"/></a>"
      ]
    },
    {
      "cell_type": "markdown",
      "source": [
        "**Arrays SDE Sheet Easy**"
      ],
      "metadata": {
        "id": "u61DkZ7eOutX"
      }
    },
    {
      "cell_type": "markdown",
      "source": [
        "**Tricky Subset Problem**\n",
        "\n",
        "N children are made to stand in a queue. Each of them is given a number A[i]. The teacher writes a number S on a page and passes it to the first child. Each child must add all the numbers they see on the page along with their own number, write the sum on the paper and pass it to the next person. \n",
        "In the end, the teacher must determine if X can be formed by adding some of the numbers from the series of numbers written on the paper.\n",
        "\n",
        "Example 1:\n",
        "\n",
        "Input: \n",
        "S = 1, N = 4, X = 7\n",
        "A = {1, 2, 4, 2}\n",
        "Output: yes\n",
        "Explaination: The final sequence of \n",
        "numbers on the paper is 1, 2, 5, 12, 22. \n",
        "Using 2 and 5 we can form 7. \n",
        "\n",
        "Example 2:\n",
        "\n",
        "Input: \n",
        "S = 100, N = 2, X = 500\n",
        "A = {51, 88}\n",
        "Output: no\n",
        "Explaination: The final sequence of \n",
        "numbers on the paper is 100, 151, 339. \n",
        "Using these numbers we cannot form 500.\n",
        "\n",
        "Your Task:\n",
        "You do not need to read input or print anything. Your task is to complete the function isPossible() which takes S, N, X and array A as input parameters and returns 1 if there is a subset which adds to this sum. Otherwise returns 0.\n",
        "\n",
        "\n",
        "Expected Time Complexity: O(N)\n",
        "Expected Auxiliary Space: O(N)\n",
        " \n",
        "\n",
        "Constraints\n",
        "1 ≤ N ≤ 105\n",
        "1 ≤ S, Ai , X ≤ 1018  "
      ],
      "metadata": {
        "id": "Y-AtzRN7ZDhY"
      }
    },
    {
      "cell_type": "code",
      "source": [
        "class Solution:\n",
        "  def isPossible(self, S, N, X, A):\n",
        "    # code here\n",
        "    #S=teacher's number\n",
        "    #X=targeted number\n",
        "    #A=given number\n",
        "    #N=len(A)\n",
        "    N=len(A)\n",
        "    sum=S\n",
        "    a=[]\n",
        "    a.append(S)\n",
        "    for i in range(N):\n",
        "      a.append(sum+A[i])\n",
        "      sum+=a[-1]\n",
        "      a.sort\n",
        "    for i in range(len(a)-1,-1,-1):\n",
        "      if a[i]>X:\n",
        "        continue\n",
        "      else:\n",
        "        X-=a[i]\n",
        "        if X==0:\n",
        "            return True\n",
        "    return False"
      ],
      "metadata": {
        "id": "PW36aiVcZVvb"
      },
      "execution_count": null,
      "outputs": []
    },
    {
      "cell_type": "markdown",
      "source": [
        "**Kadane's Algorithm **\n",
        "Given an array Arr[] of N integers. Find the contiguous sub-array(containing at least one number) which has the maximum sum and return its sum.\n",
        "Example 1:\n",
        "\n",
        "Input:\n",
        "N = 5\n",
        "Arr[] = {1,2,3,-2,5}\n",
        "Output:\n",
        "9\n",
        "Explanation:\n",
        "Max subarray sum is 9\n",
        "of elements (1, 2, 3, -2, 5) which \n",
        "is a contiguous subarray.\n",
        "Example 2:\n",
        "\n",
        "Input:\n",
        "N = 4\n",
        "Arr[] = {-1,-2,-3,-4}\n",
        "Output:\n",
        "-1\n",
        "Explanation:\n",
        "Max subarray sum is -1 \n",
        "of element (-1)\n",
        "\n",
        "Your Task:\n",
        "You don't need to read input or print anything. The task is to complete the function maxSubarraySum() which takes Arr[] and N as input parameters and returns the sum of subarray with maximum sum.\n",
        "\n",
        "\n",
        "Expected Time Complexity: O(N)\n",
        "Expected Auxiliary Space: O(1)\n",
        "\n",
        "\n",
        "Constraints:\n",
        "1 ≤ N ≤ 106\n",
        "-107 ≤ A[i] ≤ 107"
      ],
      "metadata": {
        "id": "QStno_BpOGad"
      }
    },
    {
      "cell_type": "code",
      "source": [
        "class Solution:\n",
        "  ##Complete this function\n",
        "  #Function to find the sum of contiguous subarray with maximum sum.\n",
        "  def maxSubArraySum(self,arr,N):\n",
        "    ##Your code here\n",
        "    # -1 -2 3 4 -5 6\n",
        "    sum=0\n",
        "    ans=arr[0]\n",
        "    for i in range(N):\n",
        "      sum+=arr[i]\n",
        "      ans=max(sum,ans)\n",
        "      if sum<0:\n",
        "        sum=0\n",
        "    return ans"
      ],
      "metadata": {
        "id": "QA9S_G53OVrE"
      },
      "execution_count": null,
      "outputs": []
    },
    {
      "cell_type": "markdown",
      "source": [
        "**Rotation Game**\n",
        "\n",
        "Problem Description\n",
        "Given an integer array A of size N and an integer B, you have to print the same array after rotating it B times towards the right.\n",
        "\n",
        "\n",
        "Problem Constraints\n",
        "1 <= N <= 106\n",
        "1 <= A[i] <=108\n",
        "1 <= B <= 109\n",
        "\n",
        "\n",
        "Input Format\n",
        "There are 2 lines in the input\n",
        "\n",
        "Line 1: The first number is the size N of the array A. Then N numbers follow which indicate the elements in the array A.\n",
        "\n",
        "Line 2: A single integer B.\n",
        "\n",
        "\n",
        "Output Format\n",
        "Print array A after rotating it B times towards the right.\n",
        "\n",
        "\n",
        "Example Input\n",
        "Input 1 :\n",
        "4 1 2 3 4\n",
        "2\n",
        "\n",
        "\n",
        "Example Output\n",
        "Output 1 :\n",
        "3 4 1 2\n",
        "\n",
        "\n",
        "Example Explanation\n",
        "Example 1 :\n",
        "\n",
        "N = 4, A = [1, 2, 3, 4] and B = 2.\n",
        "\n",
        "Rotate towards the right 2 times - [1, 2, 3, 4] => [4, 1, 2, 3] => [3, 4, 1, 2]\n",
        "\n",
        "Final array = [3, 4, 1, 2]\n"
      ],
      "metadata": {
        "id": "j25GLuAPopHm"
      }
    },
    {
      "cell_type": "code",
      "source": [
        " A=list(map(int,input().split()))\n",
        "    k=int(input())\n",
        "    n=A[0]\n",
        "    A.pop(0)\n",
        "    ans=[0]*n\n",
        "    for i in range(n):\n",
        "        ans[(i+k)%n]=A[i]\n",
        "    for i in range(n):\n",
        "        print(ans[i],end=\" \")\n"
      ],
      "metadata": {
        "id": "9xvPdWF1onRm"
      },
      "execution_count": null,
      "outputs": []
    },
    {
      "cell_type": "markdown",
      "source": [
        "**Strings SDE Sheet Easy**"
      ],
      "metadata": {
        "id": "ibfIUJchOsyv"
      }
    },
    {
      "cell_type": "markdown",
      "source": [],
      "metadata": {
        "id": "kDiVB8lkPLlH"
      }
    }
  ]
}